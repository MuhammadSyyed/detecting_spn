{
 "cells": [
  {
   "cell_type": "code",
   "execution_count": null,
   "id": "57917ef4",
   "metadata": {},
   "outputs": [
    {
     "name": "stderr",
     "output_type": "stream",
     "text": [
      "Generating images: 100%|██████████| 583/583 [00:00<00:00, 744.00it/s]"
     ]
    },
    {
     "name": "stdout",
     "output_type": "stream",
     "text": [
      "✅ Generated 583 images in 'dataset/normal_augmented'\n"
     ]
    },
    {
     "name": "stderr",
     "output_type": "stream",
     "text": [
      "\n"
     ]
    }
   ],
   "source": [
    "import os\n",
    "import cv2\n",
    "import random\n",
    "import albumentations as A\n",
    "from tqdm import tqdm\n",
    "\n",
    "\n",
    "input_folder = \"dataset/Normal cases\"             # your original images\n",
    "output_folder = \"dataset/normal_augmented\"  # where augmented images will be saved\n",
    "target_count = 583                  # total number of images you want after augmentation\n",
    "\n",
    "os.makedirs(output_folder, exist_ok=True)\n",
    "\n",
    "\n",
    "transform = A.Compose([\n",
    "    A.HorizontalFlip(p=0.5),\n",
    "    A.VerticalFlip(p=0.2),\n",
    "    A.RandomRotate90(p=0.5),\n",
    "    A.RandomBrightnessContrast(p=0.4),\n",
    "    A.ShiftScaleRotate(shift_limit=0.05, scale_limit=0.1, rotate_limit=15, p=0.5),\n",
    "    A.GaussianBlur(blur_limit=3, p=0.3)\n",
    "])\n",
    "\n",
    "\n",
    "images = []\n",
    "for img_name in os.listdir(input_folder):\n",
    "    img_path = os.path.join(input_folder, img_name)\n",
    "    image = cv2.imread(img_path)\n",
    "    image = cv2.cvtColor(image, cv2.COLOR_BGR2RGB)\n",
    "    images.append((img_name, image))\n",
    "\n",
    "\n",
    "for img_name, img in images:\n",
    "    out_path = os.path.join(output_folder, 'org_'+img_name)\n",
    "    cv2.imwrite(out_path, cv2.cvtColor(img, cv2.COLOR_RGB2BGR))\n",
    "\n",
    "\n",
    "current_count = len(images)\n",
    "pbar = tqdm(total=target_count, desc=\"Generating images\", initial=current_count)\n",
    "\n",
    "while current_count < target_count:\n",
    "    img_name, img = random.choice(images)\n",
    "    augmented = transform(image=img)[\"image\"]\n",
    "    new_filename = f\"{os.path.splitext(img_name)[0]}_aug{current_count}.jpg\"\n",
    "    cv2.imwrite(os.path.join(output_folder, new_filename), cv2.cvtColor(augmented, cv2.COLOR_RGB2BGR))\n",
    "    current_count += 1\n",
    "    pbar.update(1)\n",
    "\n",
    "pbar.close()\n",
    "print(f\"✅ Generated {current_count} images in '{output_folder}'\")\n"
   ]
  }
 ],
 "metadata": {
  "kernelspec": {
   "display_name": ".venv",
   "language": "python",
   "name": "python3"
  },
  "language_info": {
   "codemirror_mode": {
    "name": "ipython",
    "version": 3
   },
   "file_extension": ".py",
   "mimetype": "text/x-python",
   "name": "python",
   "nbconvert_exporter": "python",
   "pygments_lexer": "ipython3",
   "version": "3.13.5"
  }
 },
 "nbformat": 4,
 "nbformat_minor": 5
}
